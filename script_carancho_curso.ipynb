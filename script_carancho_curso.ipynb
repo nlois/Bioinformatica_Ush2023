{
 "cells": [
  {
   "attachments": {},
   "cell_type": "markdown",
   "metadata": {},
   "source": [
    "# Introducción al análisis bioinformático de secuencias RADseq\n",
    "### Ejemplo carancho austral\n",
    "##### Santiago Ceballos, Ulises Balza y Nicolas Lois\n",
    "##### Ushuaia, febrero de 2023\n",
    "\n",
    "En este ejercicio vamos a repetir procesos que ya trabajaron en el curso, pero a traves de un _script_. De esta manera, vamos a guardar registro reproducible de cada paso y podremos correr todo el flujo de trabajo con control de lo que va pasando.\n",
    "Para simplificar el ejercicio, partimos de secuencias ya demultiplexadas y vamos a dedicarnos al alineamiento de las muestras y el análisis descriptivo de la estructura de los datos.\n",
    "\n",
    "------------------------------------------\n",
    "\n",
    "Al final de este ejercicio ustedes podrán:\n",
    "* Repasar los conceptos, funciones y programas que aprendimos a usar a lo largo de todo el curso\n",
    "* Llevarse un script funcionando que puedan adaptar a sus casos\n",
    "* Tener tiempo de sacarse dudas, pensar variantes para sus propios trabajos, y discutir con el resto de la clase próximos pasos a seguir\n",
    "\n",
    "\n",
    "\n"
   ]
  },
  {
   "attachments": {},
   "cell_type": "markdown",
   "metadata": {},
   "source": [
    "### ¿Qué es este texto tan lindo que estoy viendo?\n",
    "\n",
    "Esto es un código escrito en Markdown, un lenguaje para crear texto con formato a partir de texto plano (sin formato).\n",
    "\n",
    "En Markdown se puede poner cualquier cosa, por ejemplo un tuit de la primera semana del curso:\n",
    "\n",
    "<blockquote class=\"twitter-tweet\" data-lang=\"en\" data-theme=\"dark\"><p lang=\"es\" dir=\"ltr\">Primera camada de estudiantes que se van con sus bibliotecas RAD-seq 🧬 para <a href=\"https://twitter.com/Exactas_UBA?ref_src=twsrc%5Etfw\">@Exactas_UBA</a> 🦗<a href=\"https://twitter.com/unmdp?ref_src=twsrc%5Etfw\">@unmdp</a> 🦀🐟🦡 <a href=\"https://twitter.com/unc_cordoba?ref_src=twsrc%5Etfw\">@unc_cordoba</a> 🐀 y CIT-NOBA 🐈<br>La semana que viene bioinformática 💻 <a href=\"https://twitter.com/hashtag/RADUSH23?src=hash&amp;ref_src=twsrc%5Etfw\">#RADUSH23</a> en <a href=\"https://twitter.com/UNTDF?ref_src=twsrc%5Etfw\">@UNTDF</a> <a href=\"https://t.co/Cs0ES9K1PM\">pic.twitter.com/Cs0ES9K1PM</a></p>&mdash; Ulises Balza 🇦🇷 (@UlisesBalza) <a href=\"https://twitter.com/UlisesBalza/status/1623736774546624512?ref_src=twsrc%5Etfw\">February 9, 2023</a></blockquote> <script async src=\"https://platform.twitter.com/widgets.js\" charset=\"utf-8\"></script>\n",
    "\n",
    "Pero esto no es magia! Si hacés doble click sobre esta celda vas a ver que es todo texto plano. Cuando veas el código, podés ejecutar la celda (Ctrl+Enter) para volver a ver el texto formateado. \n",
    "\n",
    "Jupyternotebook (extensión .ipynb) es un tipo de archivo que puede compilar texto (markdown), lenguajes de programación y, más importante, resultados (output) de códigos. **Todo** va a aparecer acá. El resultado de una celda de Markdown es el texto con formato, pero el resultado de las celdas de UNIX van a ser las cosas que queremos y que estuvimos viendo.\n",
    "\n",
    "Cada celda puede ser solo de un tipo (por ejemplo, Markdown o UNIX), pero las celdas se pueden ordenar como uno quiera para generar un documento que nos sirva, en este caso para tener registro de lo que vamos haciendo. Vamos al ejemplo y lo seguimos viendo, no desesperéis."
   ]
  },
  {
   "attachments": {},
   "cell_type": "markdown",
   "metadata": {},
   "source": [
    "#### Caso de estudio\n",
    "El carancho austral (*Phalcoboenus australis*) una especie endémica de islas del sur de Argentina y Chile. Pueden encontrar algunas referencias sobre la especie y el trabajo que hacemos en CADIC [acá](https://www.researchgate.net/project/Ecology-and-conservation-of-striated-caracara-Phalcoboenus-australis-in-Tierra-del-Fuego-Argentina). \n",
    "Las muestras de este trabajo fueron colectadas por nosotros y en colaboración con [Katie Harrington](https://www.johnnyrookproject.com/team-1) (Messerli Research Institute, Viena). \n",
    "\n",
    "Las muestras provienen de cuatro poblaciones de la especie: tres islas en Malvinas (Argentina), cuyos códigos son *bleaker*, *new_island* y *saunders* (correspondientes a nuestras islas María, Goicoechea y Trinidad respectivamente) y una en el archipiélago fueguino (Isla de los Estados, cuyo código es *idle*). \n",
    "\n",
    "![image](./images/figura_carancho.png)\n",
    "\n",
    "**Figura 1** Distribución global del carancho austral y localidades de donde provienen las muestras de este trabajo\n",
    "\n",
    "Como grupo externo, usamos una muestra de chimango (*Phalcoboenus chimango*, género *Milvago* en la figura) proveniente de la Provincia de Buenos Aires y cuyo código es *chim_02* (porque *chim_01* salió horrible, muy pocas lecturas, malísimo). El chimango es el grupo hermano de las cuatro especies de caranchos andinos a las que pertecene el carancho austral y la especie más cercana a la que tuvimos acceso en ese momento.\n",
    "\n",
    "![image](./images/Figuras_fuchs.png)\n",
    "\n",
    "**Figura 2** Filogenia de caracaras utilizando marcadores mitocondriales y nucleares ([Fuchs et al., 2012](https://onlinelibrary.wiley.com/doi/pdf/10.1111/j.1474-919X.2012.01222.x))\n",
    "\n",
    "\n",
    "Las secuencias serán alineadas con el [genoma de referencia](https://www.ncbi.nlm.nih.gov/assembly/GCF_000337955.1/) del halcón peregrino (*Falco peregrinus*, una especie de la misma familia, ver árbol arriba). Actualmente existe un proyecto para generar genomas de referencias de todas las rapaces del mundo, pero de momento esta es la especie más cercanamente emparentada de la que disponemos un genoma completo."
   ]
  },
  {
   "attachments": {},
   "cell_type": "markdown",
   "metadata": {},
   "source": [
    "#### 1. Navegar el cluster desde un notebook\n",
    "Empecemos por chequear qué muestras tenemos y que estén en la carpeta adecuada.\n",
    "\n",
    "Para eso podemos usar los tres comandos que ya conocen: `pwd`, `ls` y `cd`\n",
    "\n",
    "¡Ojo! Al contrario de la consola, cuando corremos líneas sucesivas en una celda, se imprimen todo los resultados de corrido y eso puede resultar difícil de entender. Lo recomendable es que le pidamos especificamente que imprima unos pocos elementos y en todo caso usar celdas diferentes para cada cosa. \n",
    "\n",
    "_Hint_: El acceso directo para comentar y descomentar líneas es _ctrl_ + _/_ (teclado LatAm _ctrl_ + _shift_  7)"
   ]
  },
  {
   "cell_type": "code",
   "execution_count": 1,
   "metadata": {},
   "outputs": [
    {
     "name": "stdout",
     "output_type": "stream",
     "text": [
      "/home/cursorad2023/carancho\n"
     ]
    }
   ],
   "source": [
    "%%bash\n",
    "pwd\n",
    "# ls\n",
    "# ls samples\n",
    "# cd samples"
   ]
  },
  {
   "attachments": {},
   "cell_type": "markdown",
   "metadata": {},
   "source": [
    "**ATENCIÓN** Si cambian el directorio de trabajo (e.g. van a la carpeta samples con el comando `cd samples`), el código se va a ejecutar desde ese lugar.\n",
    "\n",
    "Si usan SIEMPRE paths absolutos no hay problema, pero es recomendable trabajar desde la raíz\n",
    "\n",
    "El argumento `%%bash` al comienzo de la celda indica que sea leído con el intérprete _bash_, el que usa la consola de Linux que estuvieron trabajando. ¿Qué pasa si no ponemos ese argumento? Podemos probar lo que querramos porque la gracia de usar un script es que queda registro de todo. Y relax, no pueden romper nada, tenemos un backup de todo esto alojado en la nube. Así que tómense el tiempo de editar, agregar celdas de código o texto, comentar todo lo que necesiten para llevarse algo que les sirva a ustedes. **Díganme que esto es mejor que un word por favor**."
   ]
  },
  {
   "cell_type": "markdown",
   "metadata": {},
   "source": [
    "#### 2. Alineamiento de las lecturas\n",
    "Primero, vamos a hacer un archivo que clasifique mis muestras en poblaciones - lo vamos a llamar `popmap_all.txt`\n",
    "\n",
    "Generamos el archivo de la lista de muestras, y a continuación le agregamos un \"1\" en la columna de al lado"
   ]
  },
  {
   "cell_type": "code",
   "execution_count": 2,
   "metadata": {},
   "outputs": [
    {
     "name": "stdout",
     "output_type": "stream",
     "text": [
      "bleaker_03\t1\n",
      "bleaker_06\t1\n",
      "bleaker_10\t1\n",
      "chim_02\t1\n",
      "idle_a24\t1\n",
      "idle_naca\t1\n",
      "idle_nacp\t1\n",
      "new_island_01\t1\n",
      "new_island_03\t1\n",
      "new_island_10\t1\n",
      "saunders_07\t1\n",
      "saunders_09\t1\n",
      "saunders_10\t1\n"
     ]
    }
   ],
   "source": [
    "%%bash \n",
    "cd samples # cambio de directorio\n",
    "ls -1 *.fq.gz| sed -e 's/\\.fq.gz$//' > samples_list_all.txt # acá genero la lista de muestras\n",
    "awk 'BEGIN { FS = OFS = \"\\t\" } { $(NF+1) = 1; print $0 }' samples_list_all.txt > popmap_all.txt\n",
    "cat popmap_all.txt\n",
    "cd .. # vuelvo al directorio original"
   ]
  },
  {
   "cell_type": "markdown",
   "metadata": {},
   "source": [
    "Bien, tenemos una receta para hacer las cosas. Para generar una lista de nombres de muestras hicimos un código bastante complejo y desprolijo.\n",
    "\n",
    "Entramos a una carpeta, operamos dentro de ella (siempre con paths relativos) y luego volvimos a la carpeta de origen. ¿Se puede mejorar? Seguro, pero no necesitamos empezar de cero cada vez que entremos a este código, lo podemos ir mejorando con el tiempo y ésta no tiene por qué ser la versión final. Si bien la prolijiad es relevante, el mejor código es el que anda.\n",
    "\n",
    "![image](./images/meme_pirates.png)"
   ]
  },
  {
   "attachments": {},
   "cell_type": "markdown",
   "metadata": {},
   "source": [
    "### 3. Indexado del genoma de referencia\n",
    "A partir de este punto tendrán que tomar nota con los comentarios como mostramos en los puntos anteriores y correr los pasos que hicimos antes para tener información de este nuevo set de datos. Aprovechen para generar un producto que se puedan llevar y les sirva para el futuro"
   ]
  },
  {
   "cell_type": "code",
   "execution_count": 7,
   "metadata": {},
   "outputs": [],
   "source": [
    "%%bash"
   ]
  },
  {
   "cell_type": "markdown",
   "metadata": {},
   "source": [
    "### 4. Loop de alineamiento"
   ]
  },
  {
   "cell_type": "markdown",
   "metadata": {},
   "source": [
    "### 5. SNP calling"
   ]
  },
  {
   "cell_type": "markdown",
   "metadata": {},
   "source": [
    "### 6. Populations"
   ]
  }
 ],
 "metadata": {
  "kernelspec": {
   "display_name": "Python 3 (ipykernel)",
   "language": "python",
   "name": "python3"
  },
  "language_info": {
   "codemirror_mode": {
    "name": "ipython",
    "version": 2
   },
   "file_extension": ".py",
   "mimetype": "text/x-python",
   "name": "python",
   "nbconvert_exporter": "python",
   "pygments_lexer": "ipython2",
   "version": "2.7.-1"
  },
  "vscode": {
   "interpreter": {
    "hash": "767d51c1340bd893661ea55ea3124f6de3c7a262a8b4abca0554b478b1e2ff90"
   }
  }
 },
 "nbformat": 4,
 "nbformat_minor": 2
}
